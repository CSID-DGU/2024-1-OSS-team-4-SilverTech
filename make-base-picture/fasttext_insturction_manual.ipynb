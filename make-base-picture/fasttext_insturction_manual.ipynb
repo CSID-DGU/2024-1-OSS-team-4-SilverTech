{
 "cells": [
  {
   "cell_type": "code",
   "execution_count": 16,
   "metadata": {},
   "outputs": [
    {
     "name": "stdout",
     "output_type": "stream",
     "text": [
      "Collecting fasttext\n",
      "  Using cached fasttext-0.9.2.tar.gz (68 kB)\n",
      "  Preparing metadata (setup.py): started\n",
      "  Preparing metadata (setup.py): finished with status 'done'\n",
      "Requirement already satisfied: pybind11>=2.2 in c:\\anaconda3\\envs\\django-back\\lib\\site-packages (from fasttext) (2.12.0)\n",
      "Requirement already satisfied: setuptools>=0.7.0 in c:\\anaconda3\\envs\\django-back\\lib\\site-packages (from fasttext) (68.2.2)\n",
      "Requirement already satisfied: numpy in c:\\anaconda3\\envs\\django-back\\lib\\site-packages (from fasttext) (1.26.4)\n",
      "Building wheels for collected packages: fasttext\n",
      "  Building wheel for fasttext (setup.py): started\n",
      "  Building wheel for fasttext (setup.py): finished with status 'error'\n",
      "  Running setup.py clean for fasttext\n",
      "Failed to build fasttext\n"
     ]
    },
    {
     "name": "stderr",
     "output_type": "stream",
     "text": [
      "  error: subprocess-exited-with-error\n",
      "  \n",
      "  × python setup.py bdist_wheel did not run successfully.\n",
      "  │ exit code: 1\n",
      "  ╰─> [75 lines of output]\n",
      "      C:\\Anaconda3\\envs\\django-back\\Lib\\site-packages\\setuptools\\dist.py:498: SetuptoolsDeprecationWarning: Invalid dash-separated options\n",
      "      !!\n",
      "      \n",
      "              ********************************************************************************\n",
      "              Usage of dash-separated 'description-file' will not be supported in future\n",
      "              versions. Please use the underscore name 'description_file' instead.\n",
      "      \n",
      "              This deprecation is overdue, please update your project and remove deprecated\n",
      "              calls to avoid build errors in the future.\n",
      "      \n",
      "              See https://setuptools.pypa.io/en/latest/userguide/declarative_config.html for details.\n",
      "              ********************************************************************************\n",
      "      \n",
      "      !!\n",
      "        opt = self.warn_dash_deprecation(opt, section)\n",
      "      running bdist_wheel\n",
      "      running build\n",
      "      running build_py\n",
      "      creating build\n",
      "      creating build\\lib.win-amd64-cpython-312\n",
      "      creating build\\lib.win-amd64-cpython-312\\fasttext\n",
      "      copying python\\fasttext_module\\fasttext\\FastText.py -> build\\lib.win-amd64-cpython-312\\fasttext\n",
      "      copying python\\fasttext_module\\fasttext\\__init__.py -> build\\lib.win-amd64-cpython-312\\fasttext\n",
      "      creating build\\lib.win-amd64-cpython-312\\fasttext\\util\n",
      "      copying python\\fasttext_module\\fasttext\\util\\util.py -> build\\lib.win-amd64-cpython-312\\fasttext\\util\n",
      "      copying python\\fasttext_module\\fasttext\\util\\__init__.py -> build\\lib.win-amd64-cpython-312\\fasttext\\util\n",
      "      creating build\\lib.win-amd64-cpython-312\\fasttext\\tests\n",
      "      copying python\\fasttext_module\\fasttext\\tests\\test_configurations.py -> build\\lib.win-amd64-cpython-312\\fasttext\\tests\n",
      "      copying python\\fasttext_module\\fasttext\\tests\\test_script.py -> build\\lib.win-amd64-cpython-312\\fasttext\\tests\n",
      "      copying python\\fasttext_module\\fasttext\\tests\\__init__.py -> build\\lib.win-amd64-cpython-312\\fasttext\\tests\n",
      "      running build_ext\n",
      "      building 'fasttext_pybind' extension\n",
      "      creating build\\temp.win-amd64-cpython-312\n",
      "      creating build\\temp.win-amd64-cpython-312\\Release\n",
      "      creating build\\temp.win-amd64-cpython-312\\Release\\python\n",
      "      creating build\\temp.win-amd64-cpython-312\\Release\\python\\fasttext_module\n",
      "      creating build\\temp.win-amd64-cpython-312\\Release\\python\\fasttext_module\\fasttext\n",
      "      creating build\\temp.win-amd64-cpython-312\\Release\\python\\fasttext_module\\fasttext\\pybind\n",
      "      creating build\\temp.win-amd64-cpython-312\\Release\\src\n",
      "      \"C:\\Program Files\\Microsoft Visual Studio\\2022\\Community\\VC\\Tools\\MSVC\\14.36.32532\\bin\\HostX86\\x64\\cl.exe\" /c /nologo /O2 /W3 /GL /DNDEBUG /MD -IC:\\Anaconda3\\envs\\django-back\\Lib\\site-packages\\pybind11\\include -IC:\\Anaconda3\\envs\\django-back\\Lib\\site-packages\\pybind11\\include -Isrc -IC:\\Anaconda3\\envs\\django-back\\include -IC:\\Anaconda3\\envs\\django-back\\Include \"-IC:\\Program Files\\Microsoft Visual Studio\\2022\\Community\\VC\\Tools\\MSVC\\14.36.32532\\include\" \"-IC:\\Program Files\\Microsoft Visual Studio\\2022\\Community\\VC\\Tools\\MSVC\\14.36.32532\\ATLMFC\\include\" \"-IC:\\Program Files\\Microsoft Visual Studio\\2022\\Community\\VC\\Auxiliary\\VS\\include\" \"-IC:\\Program Files (x86)\\Windows Kits\\10\\include\\10.0.22000.0\\ucrt\" \"-IC:\\Program Files (x86)\\Windows Kits\\10\\\\include\\10.0.22000.0\\\\um\" \"-IC:\\Program Files (x86)\\Windows Kits\\10\\\\include\\10.0.22000.0\\\\shared\" \"-IC:\\Program Files (x86)\\Windows Kits\\10\\\\include\\10.0.22000.0\\\\winrt\" \"-IC:\\Program Files (x86)\\Windows Kits\\10\\\\include\\10.0.22000.0\\\\cppwinrt\" \"-IC:\\Program Files (x86)\\Windows Kits\\NETFXSDK\\4.8\\include\\um\" /EHsc /Tppython/fasttext_module/fasttext/pybind/fasttext_pybind.cc /Fobuild\\temp.win-amd64-cpython-312\\Release\\python/fasttext_module/fasttext/pybind/fasttext_pybind.obj /EHsc /DVERSION_INFO=\\\\\\\"0.9.2\\\\\\\"\n",
      "      fasttext_pybind.cc\n",
      "      python/fasttext_module/fasttext/pybind/fasttext_pybind.cc(171): error C2065: 'ssize_t': \\xbc\\xb1\\xbe\\xf0\\xb5\\xc7\\xc1\\xf6 \\xbe\\xca\\xc0\\xba \\xbdĺ\\xb0\\xc0\\xda\\xc0Դϴ\\xd9.\n",
      "      python/fasttext_module/fasttext/pybind/fasttext_pybind.cc(171): error C2672: 'pybind11::init': \\xc0\\xcfġ\\xc7ϴ\\xc2 \\xbf\\xc0\\xb9\\xf6\\xb7ε\\xe5\\xb5\\xc8 \\xc7Լ\\xf6\\xb0\\xa1 \\xbe\\xf8\\xbd\\xc0\\xb4ϴ\\xd9.\n",
      "      C:\\Anaconda3\\envs\\django-back\\Lib\\site-packages\\pybind11\\include\\pybind11\\pybind11.h(1991): note: 'Ret pybind11::init(CFunc &&,AFunc &&)'\\xc0\\xcf \\xbc\\xf6 \\xc0ֽ\\xc0\\xb4ϴ\\xd9.\n",
      "      python/fasttext_module/fasttext/pybind/fasttext_pybind.cc(171): note: 'pybind11::init': 'CFunc'\\xc0\\xc7 \\xc5\\xdb\\xc7ø\\xb4 \\xc0μ\\xf6\\xb0\\xa1 \\xc0߸\\xf8\\xb5Ǿ\\xfa\\xbd\\xc0\\xb4ϴ\\xd9. \\xc7\\xfc\\xbd\\xc4\\xc0\\xcc \\xc7ʿ\\xe4\\xc7մϴ\\xd9.\n",
      "      C:\\Anaconda3\\envs\\django-back\\Lib\\site-packages\\pybind11\\include\\pybind11\\pybind11.h(1983): note: \\xb6Ǵ\\xc2       'Ret pybind11::init(Func &&)'\n",
      "      python/fasttext_module/fasttext/pybind/fasttext_pybind.cc(171): note: 'pybind11::init': 'Func'\\xc0\\xc7 \\xc5\\xdb\\xc7ø\\xb4 \\xc0μ\\xf6\\xb0\\xa1 \\xc0߸\\xf8\\xb5Ǿ\\xfa\\xbd\\xc0\\xb4ϴ\\xd9. \\xc7\\xfc\\xbd\\xc4\\xc0\\xcc \\xc7ʿ\\xe4\\xc7մϴ\\xd9.\n",
      "      C:\\Anaconda3\\envs\\django-back\\Lib\\site-packages\\pybind11\\include\\pybind11\\pybind11.h(1971): note: \\xb6Ǵ\\xc2       'pybind11::detail::initimpl::constructor<Args...> pybind11::init(void)'\n",
      "      python/fasttext_module/fasttext/pybind/fasttext_pybind.cc(171): note: 'pybind11::init': 'Args'\\xc0\\xc7 \\xc5\\xdb\\xc7ø\\xb4 \\xc0μ\\xf6\\xb0\\xa1 \\xc0߸\\xf8\\xb5Ǿ\\xfa\\xbd\\xc0\\xb4ϴ\\xd9. \\xc7\\xfc\\xbd\\xc4\\xc0\\xcc \\xc7ʿ\\xe4\\xc7մϴ\\xd9.\n",
      "      python/fasttext_module/fasttext/pybind/fasttext_pybind.cc(171): error C2672: 'pybind11::class_<fasttext::Vector>::def': \\xc0\\xcfġ\\xc7ϴ\\xc2 \\xbf\\xc0\\xb9\\xf6\\xb7ε\\xe5\\xb5\\xc8 \\xc7Լ\\xf6\\xb0\\xa1 \\xbe\\xf8\\xbd\\xc0\\xb4ϴ\\xd9.\n",
      "      C:\\Anaconda3\\envs\\django-back\\Lib\\site-packages\\pybind11\\include\\pybind11\\pybind11.h(1690): note: 'pybind11::class_<fasttext::Vector> &pybind11::class_<fasttext::Vector>::def(pybind11::detail::initimpl::pickle_factory<Args...> &&,const Extra &...)'\\xc0\\xcf \\xbc\\xf6 \\xc0ֽ\\xc0\\xb4ϴ\\xd9.\n",
      "      C:\\Anaconda3\\envs\\django-back\\Lib\\site-packages\\pybind11\\include\\pybind11\\pybind11.h(1684): note: \\xb6Ǵ\\xc2       'pybind11::class_<fasttext::Vector> &pybind11::class_<fasttext::Vector>::def(pybind11::detail::initimpl::factory<Args...> &&,const Extra &...)'\n",
      "      C:\\Anaconda3\\envs\\django-back\\Lib\\site-packages\\pybind11\\include\\pybind11\\pybind11.h(1677): note: \\xb6Ǵ\\xc2       'pybind11::class_<fasttext::Vector> &pybind11::class_<fasttext::Vector>::def(const pybind11::detail::initimpl::alias_constructor<Args...> &,const Extra &...)'\n",
      "      C:\\Anaconda3\\envs\\django-back\\Lib\\site-packages\\pybind11\\include\\pybind11\\pybind11.h(1670): note: \\xb6Ǵ\\xc2       'pybind11::class_<fasttext::Vector> &pybind11::class_<fasttext::Vector>::def(const pybind11::detail::initimpl::constructor<Args...> &,const Extra &...)'\n",
      "      C:\\Anaconda3\\envs\\django-back\\Lib\\site-packages\\pybind11\\include\\pybind11\\pybind11.h(1658): note: \\xb6Ǵ\\xc2       'pybind11::class_<fasttext::Vector> &pybind11::class_<fasttext::Vector>::def(const T &,const Extra &...)'\n",
      "      C:\\Anaconda3\\envs\\django-back\\Lib\\site-packages\\pybind11\\include\\pybind11\\pybind11.h(1633): note: \\xb6Ǵ\\xc2       'pybind11::class_<fasttext::Vector> &pybind11::class_<fasttext::Vector>::def(const char *,Func &&,const Extra &...)'\n",
      "      python/fasttext_module/fasttext/pybind/fasttext_pybind.cc(171): note: 'pybind11::class_<fasttext::Vector> &pybind11::class_<fasttext::Vector>::def(const char *,Func &&,const Extra &...)': 3\\xb0\\xb3\\xc0\\xc7 \\xc0μ\\xf6\\xb0\\xa1 \\xc7ʿ\\xe4\\xc7մϴ\\xd9. 1\\xb0\\xb3\\xb0\\xa1 \\xc1\\xa6\\xb0\\xf8\\xb5Ǿ\\xfa\\xbd\\xc0\\xb4ϴ\\xd9.\n",
      "      python/fasttext_module/fasttext/pybind/fasttext_pybind.cc(185): error C2065: 'ssize_t': \\xbc\\xb1\\xbe\\xf0\\xb5\\xc7\\xc1\\xf6 \\xbe\\xca\\xc0\\xba \\xbdĺ\\xb0\\xc0\\xda\\xc0Դϴ\\xd9.\n",
      "      python/fasttext_module/fasttext/pybind/fasttext_pybind.cc(185): error C2065: 'ssize_t': \\xbc\\xb1\\xbe\\xf0\\xb5\\xc7\\xc1\\xf6 \\xbe\\xca\\xc0\\xba \\xbdĺ\\xb0\\xc0\\xda\\xc0Դϴ\\xd9.\n",
      "      python/fasttext_module/fasttext/pybind/fasttext_pybind.cc(185): error C2672: 'pybind11::init': \\xc0\\xcfġ\\xc7ϴ\\xc2 \\xbf\\xc0\\xb9\\xf6\\xb7ε\\xe5\\xb5\\xc8 \\xc7Լ\\xf6\\xb0\\xa1 \\xbe\\xf8\\xbd\\xc0\\xb4ϴ\\xd9.\n",
      "      C:\\Anaconda3\\envs\\django-back\\Lib\\site-packages\\pybind11\\include\\pybind11\\pybind11.h(1991): note: 'Ret pybind11::init(CFunc &&,AFunc &&)'\\xc0\\xcf \\xbc\\xf6 \\xc0ֽ\\xc0\\xb4ϴ\\xd9.\n",
      "      python/fasttext_module/fasttext/pybind/fasttext_pybind.cc(185): note: 'pybind11::init': 'CFunc'\\xc0\\xc7 \\xc5\\xdb\\xc7ø\\xb4 \\xc0μ\\xf6\\xb0\\xa1 \\xc0߸\\xf8\\xb5Ǿ\\xfa\\xbd\\xc0\\xb4ϴ\\xd9. \\xc7\\xfc\\xbd\\xc4\\xc0\\xcc \\xc7ʿ\\xe4\\xc7մϴ\\xd9.\n",
      "      C:\\Anaconda3\\envs\\django-back\\Lib\\site-packages\\pybind11\\include\\pybind11\\pybind11.h(1983): note: \\xb6Ǵ\\xc2       'Ret pybind11::init(Func &&)'\n",
      "      python/fasttext_module/fasttext/pybind/fasttext_pybind.cc(185): note: 'pybind11::init': 'Func'\\xc0\\xc7 \\xc5\\xdb\\xc7ø\\xb4 \\xc0μ\\xf6\\xb0\\xa1 \\xc0߸\\xf8\\xb5Ǿ\\xfa\\xbd\\xc0\\xb4ϴ\\xd9. \\xc7\\xfc\\xbd\\xc4\\xc0\\xcc \\xc7ʿ\\xe4\\xc7մϴ\\xd9.\n",
      "      C:\\Anaconda3\\envs\\django-back\\Lib\\site-packages\\pybind11\\include\\pybind11\\pybind11.h(1971): note: \\xb6Ǵ\\xc2       'pybind11::detail::initimpl::constructor<Args...> pybind11::init(void)'\n",
      "      python/fasttext_module/fasttext/pybind/fasttext_pybind.cc(185): note: 'pybind11::init': 'Args'\\xc0\\xc7 \\xc5\\xdb\\xc7ø\\xb4 \\xc0μ\\xf6\\xb0\\xa1 \\xc0߸\\xf8\\xb5Ǿ\\xfa\\xbd\\xc0\\xb4ϴ\\xd9. \\xc7\\xfc\\xbd\\xc4\\xc0\\xcc \\xc7ʿ\\xe4\\xc7մϴ\\xd9.\n",
      "      python/fasttext_module/fasttext/pybind/fasttext_pybind.cc(185): error C2672: 'pybind11::class_<fasttext::DenseMatrix>::def': \\xc0\\xcfġ\\xc7ϴ\\xc2 \\xbf\\xc0\\xb9\\xf6\\xb7ε\\xe5\\xb5\\xc8 \\xc7Լ\\xf6\\xb0\\xa1 \\xbe\\xf8\\xbd\\xc0\\xb4ϴ\\xd9.\n",
      "      C:\\Anaconda3\\envs\\django-back\\Lib\\site-packages\\pybind11\\include\\pybind11\\pybind11.h(1690): note: 'pybind11::class_<fasttext::DenseMatrix> &pybind11::class_<fasttext::DenseMatrix>::def(pybind11::detail::initimpl::pickle_factory<Args...> &&,const Extra &...)'\\xc0\\xcf \\xbc\\xf6 \\xc0ֽ\\xc0\\xb4ϴ\\xd9.\n",
      "      C:\\Anaconda3\\envs\\django-back\\Lib\\site-packages\\pybind11\\include\\pybind11\\pybind11.h(1684): note: \\xb6Ǵ\\xc2       'pybind11::class_<fasttext::DenseMatrix> &pybind11::class_<fasttext::DenseMatrix>::def(pybind11::detail::initimpl::factory<Args...> &&,const Extra &...)'\n",
      "      C:\\Anaconda3\\envs\\django-back\\Lib\\site-packages\\pybind11\\include\\pybind11\\pybind11.h(1677): note: \\xb6Ǵ\\xc2       'pybind11::class_<fasttext::DenseMatrix> &pybind11::class_<fasttext::DenseMatrix>::def(const pybind11::detail::initimpl::alias_constructor<Args...> &,const Extra &...)'\n",
      "      C:\\Anaconda3\\envs\\django-back\\Lib\\site-packages\\pybind11\\include\\pybind11\\pybind11.h(1670): note: \\xb6Ǵ\\xc2       'pybind11::class_<fasttext::DenseMatrix> &pybind11::class_<fasttext::DenseMatrix>::def(const pybind11::detail::initimpl::constructor<Args...> &,const Extra &...)'\n",
      "      C:\\Anaconda3\\envs\\django-back\\Lib\\site-packages\\pybind11\\include\\pybind11\\pybind11.h(1658): note: \\xb6Ǵ\\xc2       'pybind11::class_<fasttext::DenseMatrix> &pybind11::class_<fasttext::DenseMatrix>::def(const T &,const Extra &...)'\n",
      "      C:\\Anaconda3\\envs\\django-back\\Lib\\site-packages\\pybind11\\include\\pybind11\\pybind11.h(1633): note: \\xb6Ǵ\\xc2       'pybind11::class_<fasttext::DenseMatrix> &pybind11::class_<fasttext::DenseMatrix>::def(const char *,Func &&,const Extra &...)'\n",
      "      python/fasttext_module/fasttext/pybind/fasttext_pybind.cc(185): note: 'pybind11::class_<fasttext::DenseMatrix> &pybind11::class_<fasttext::DenseMatrix>::def(const char *,Func &&,const Extra &...)': 3\\xb0\\xb3\\xc0\\xc7 \\xc0μ\\xf6\\xb0\\xa1 \\xc7ʿ\\xe4\\xc7մϴ\\xd9. 1\\xb0\\xb3\\xb0\\xa1 \\xc1\\xa6\\xb0\\xf8\\xb5Ǿ\\xfa\\xbd\\xc0\\xb4ϴ\\xd9.\n",
      "      error: command 'C:\\\\Program Files\\\\Microsoft Visual Studio\\\\2022\\\\Community\\\\VC\\\\Tools\\\\MSVC\\\\14.36.32532\\\\bin\\\\HostX86\\\\x64\\\\cl.exe' failed with exit code 2\n",
      "      [end of output]\n",
      "  \n",
      "  note: This error originates from a subprocess, and is likely not a problem with pip.\n",
      "  ERROR: Failed building wheel for fasttext\n",
      "ERROR: Could not build wheels for fasttext, which is required to install pyproject.toml-based projects\n"
     ]
    }
   ],
   "source": [
    "!pip install fasttext"
   ]
  },
  {
   "cell_type": "code",
   "execution_count": 17,
   "metadata": {},
   "outputs": [
    {
     "ename": "ModuleNotFoundError",
     "evalue": "No module named 'fasttext'",
     "output_type": "error",
     "traceback": [
      "\u001b[1;31m---------------------------------------------------------------------------\u001b[0m",
      "\u001b[1;31mModuleNotFoundError\u001b[0m                       Traceback (most recent call last)",
      "Cell \u001b[1;32mIn[17], line 1\u001b[0m\n\u001b[1;32m----> 1\u001b[0m \u001b[38;5;28;01mimport\u001b[39;00m \u001b[38;5;21;01mfasttext\u001b[39;00m\n\u001b[0;32m      2\u001b[0m \u001b[38;5;28;01mimport\u001b[39;00m \u001b[38;5;21;01mfasttext\u001b[39;00m\u001b[38;5;21;01m.\u001b[39;00m\u001b[38;5;21;01mutil\u001b[39;00m\n\u001b[0;32m      3\u001b[0m fasttext\u001b[38;5;241m.\u001b[39mutil\u001b[38;5;241m.\u001b[39mdownload_model(\u001b[38;5;124m'\u001b[39m\u001b[38;5;124mko\u001b[39m\u001b[38;5;124m'\u001b[39m, if_exists\u001b[38;5;241m=\u001b[39m\u001b[38;5;124m'\u001b[39m\u001b[38;5;124mignore\u001b[39m\u001b[38;5;124m'\u001b[39m)\n",
      "\u001b[1;31mModuleNotFoundError\u001b[0m: No module named 'fasttext'"
     ]
    }
   ],
   "source": [
    "import fasttext\n",
    "import fasttext.util\n",
    "fasttext.util.download_model('ko', if_exists='ignore')\n",
    "ft = fasttext.load_model('cc.ko.300.vec')"
   ]
  }
 ],
 "metadata": {
  "kernelspec": {
   "display_name": "django-back",
   "language": "python",
   "name": "python3"
  },
  "language_info": {
   "codemirror_mode": {
    "name": "ipython",
    "version": 3
   },
   "file_extension": ".py",
   "mimetype": "text/x-python",
   "name": "python",
   "nbconvert_exporter": "python",
   "pygments_lexer": "ipython3",
   "version": "3.12.2"
  }
 },
 "nbformat": 4,
 "nbformat_minor": 2
}
