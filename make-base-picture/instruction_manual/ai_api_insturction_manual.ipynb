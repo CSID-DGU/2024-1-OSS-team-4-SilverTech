{
 "cells": [
  {
   "cell_type": "code",
   "execution_count": 3,
   "metadata": {},
   "outputs": [
    {
     "ename": "FileNotFoundError",
     "evalue": "[Errno 2] No such file or directory: 'API\\\\api_keys.txt'",
     "output_type": "error",
     "traceback": [
      "\u001b[1;31m---------------------------------------------------------------------------\u001b[0m",
      "\u001b[1;31mFileNotFoundError\u001b[0m                         Traceback (most recent call last)",
      "Cell \u001b[1;32mIn[3], line 11\u001b[0m\n\u001b[0;32m      8\u001b[0m keys_file_path \u001b[38;5;241m=\u001b[39m os\u001b[38;5;241m.\u001b[39mpath\u001b[38;5;241m.\u001b[39mjoin(\u001b[38;5;124m'\u001b[39m\u001b[38;5;124mAPI\u001b[39m\u001b[38;5;124m'\u001b[39m, \u001b[38;5;124m'\u001b[39m\u001b[38;5;124mapi_keys.txt\u001b[39m\u001b[38;5;124m'\u001b[39m)\n\u001b[0;32m     10\u001b[0m \u001b[38;5;66;03m# 파일에서 API 키를 로드하는 함수\u001b[39;00m\n\u001b[1;32m---> 11\u001b[0m \u001b[38;5;28;01mwith\u001b[39;00m \u001b[43mio\u001b[49m\u001b[38;5;241;43m.\u001b[39;49m\u001b[43mopen\u001b[49m\u001b[43m(\u001b[49m\u001b[43mkeys_file_path\u001b[49m\u001b[43m,\u001b[49m\u001b[43m \u001b[49m\u001b[38;5;124;43m'\u001b[39;49m\u001b[38;5;124;43mr\u001b[39;49m\u001b[38;5;124;43m'\u001b[39;49m\u001b[43m,\u001b[49m\u001b[43m \u001b[49m\u001b[43mencoding\u001b[49m\u001b[38;5;241;43m=\u001b[39;49m\u001b[38;5;124;43m'\u001b[39;49m\u001b[38;5;124;43mutf-8\u001b[39;49m\u001b[38;5;124;43m'\u001b[39;49m\u001b[43m)\u001b[49m \u001b[38;5;28;01mas\u001b[39;00m file:\n\u001b[0;32m     12\u001b[0m     keys \u001b[38;5;241m=\u001b[39m json\u001b[38;5;241m.\u001b[39mload(file)\n\u001b[0;32m     14\u001b[0m \u001b[38;5;66;03m# API 키 사용\u001b[39;00m\n",
      "\u001b[1;31mFileNotFoundError\u001b[0m: [Errno 2] No such file or directory: 'API\\\\api_keys.txt'"
     ]
    }
   ],
   "source": [
    "import os\n",
    "import urllib3\n",
    "import json\n",
    "import io\n",
    "\n",
    "#%% API 키 불러오기\n",
    "# API 키 작성된 메모장 주소\n",
    "keys_file_path = os.path.join('API', 'api_keys.txt')\n",
    "\n",
    "# 파일에서 API 키를 로드하는 함수\n",
    "with io.open(keys_file_path, 'r', encoding='utf-8') as file:\n",
    "    keys = json.load(file)\n",
    "\n",
    "# API 키 사용\n",
    "REST_API_KEY = f\"{keys['ai_api_keys']}\""
   ]
  },
  {
   "cell_type": "code",
   "execution_count": 73,
   "metadata": {},
   "outputs": [
    {
     "name": "stdout",
     "output_type": "stream",
     "text": [
      "{\"result\":0,\"return_object\":{\"MetaInfo\":{\"Title\":\"\",\"Link\":\"\"},\"WWN WordRelInfo\":{\"FirstWordInfo\":{\"Word\":\"단풍\",\"HomonymCode\":2,\"PolysemyCode\":0,\"Definition\":\"사과 품종의 하나. 나무가 강하여 병이나 벌레에 의한 해가 적으며 열매가 굵고 빛이 아름다우며 알이 크고 저장하기에 좋다.\",\"POS\":\"n\"},\"SecondWordInfo\":{\"Word\":\"은행\",\"HomonymCode\":3,\"PolysemyCode\":0,\"Definition\":\"은행나무의 열매. 식용하거나 약용한다.\",\"POS\":\"n\"},\"WordRelInfo\":{\"ShortedPath\":[\"단풍_0200\",\"사과_0500\",\"과일_0100\",\"LCS: 열매_0100\",\"은행_0300\"],\"Distance\":4,\"Similarity\":[{\"Algorithm\":\"ETRI\",\"SimScore\":0.533333},{\"Algorithm\":\"Resnik\",\"SimScore\":0.463012},{\"Algorithm\":\"Lin\",\"SimScore\":0.463012},{\"Algorithm\":\"Jiang and Conrath\",\"SimScore\":0.0701174},{\"Algorithm\":\"Leacock and Chodorow\",\"SimScore\":0.613147},{\"Algorithm\":\"Wu & Palmer\",\"SimScore\":0.714286},{\"Algorithm\":\"Hirst and St-Onge\",\"SimScore\":0},{\"Algorithm\":\"Banerjee and Pedersen\",\"SimScore\":0},{\"Algorithm\":\"Patwardhan\",\"SimScore\":0.25},{\"Algorithm\":\"Pekar et al\",\"SimScore\":0.555556},{\"Algorithm\":\"Lin + GraSM\",\"SimScore\":0.463012}]}}}}\n"
     ]
    }
   ],
   "source": [
    "openApiURL = \"http://aiopen.etri.re.kr:8000/WiseWWN/WordRel\"\n",
    "accessKey = \"AI_API_KEY\"\n",
    "firstWord = '단풍'\n",
    "secondWord = '은행'\n",
    "\n",
    "requestJson = {   \n",
    "    \"argument\": {\n",
    "        'first_word': firstWord,\n",
    "        'second_word': secondWord,\n",
    "    }\n",
    "}\n",
    "\n",
    "http = urllib3.PoolManager()\n",
    "response = http.request(\n",
    "    \"POST\",\n",
    "    openApiURL,\n",
    "    headers={\"Content-Type\": \"application/json; charset=UTF-8\", \"Authorization\": accessKey},\n",
    "    body=json.dumps(requestJson)\n",
    ")\n",
    "\n",
    "\n",
    "print(str(response.data, 'utf-8'))"
   ]
  },
  {
   "cell_type": "code",
   "execution_count": 74,
   "metadata": {},
   "outputs": [
    {
     "name": "stdout",
     "output_type": "stream",
     "text": [
      "Algorithm: ETRI, SimScore: 0.533333\n",
      "Algorithm: Resnik, SimScore: 0.463012\n",
      "Algorithm: Lin, SimScore: 0.463012\n",
      "Algorithm: Jiang and Conrath, SimScore: 0.0701174\n",
      "Algorithm: Leacock and Chodorow, SimScore: 0.613147\n",
      "Algorithm: Wu & Palmer, SimScore: 0.714286\n",
      "Algorithm: Hirst and St-Onge, SimScore: 0\n",
      "Algorithm: Banerjee and Pedersen, SimScore: 0\n",
      "Algorithm: Patwardhan, SimScore: 0.25\n",
      "Algorithm: Pekar et al, SimScore: 0.555556\n",
      "Algorithm: Lin + GraSM, SimScore: 0.463012\n",
      "\n",
      "0.40298259999999997\n"
     ]
    }
   ],
   "source": [
    "import json\n",
    "\n",
    "# JSON 데이터를 파이썬 딕셔너리로 변환\n",
    "data = json.loads(response.data)\n",
    "\n",
    "# 'Similarity' 키에 해당하는 값을 추출\n",
    "similarities = data['return_object']['WWN WordRelInfo']['WordRelInfo']['Similarity']\n",
    "\n",
    "average_score = 0\n",
    "# 각 알고리즘의 이름과 점수를 출력\n",
    "for sim in similarities:\n",
    "    if sim['Algorithm'] not in ['Banerjee and Pedersen', 'Jiang and Conrath', 'Patwardhan', 'Leacock and Chodorow', 'Lin', 'Wu & Palmer']:\n",
    "        average_score += sim['SimScore']\n",
    "        \n",
    "    print(f\"Algorithm: {sim['Algorithm']}, SimScore: {sim['SimScore']}\")\n",
    "\n",
    "print()\n",
    "print(average_score / 5)\n",
    "# 임계값을 0.6으로 설정하면 꽤 잘됨"
   ]
  },
  {
   "cell_type": "code",
   "execution_count": null,
   "metadata": {},
   "outputs": [],
   "source": []
  }
 ],
 "metadata": {
  "kernelspec": {
   "display_name": "django-back",
   "language": "python",
   "name": "python3"
  },
  "language_info": {
   "codemirror_mode": {
    "name": "ipython",
    "version": 3
   },
   "file_extension": ".py",
   "mimetype": "text/x-python",
   "name": "python",
   "nbconvert_exporter": "python",
   "pygments_lexer": "ipython3",
   "version": "3.12.2"
  }
 },
 "nbformat": 4,
 "nbformat_minor": 2
}
