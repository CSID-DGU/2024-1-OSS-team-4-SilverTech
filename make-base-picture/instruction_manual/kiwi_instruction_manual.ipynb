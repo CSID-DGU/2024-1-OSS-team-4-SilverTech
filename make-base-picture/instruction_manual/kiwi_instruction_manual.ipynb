{
 "cells": [
  {
   "cell_type": "code",
   "execution_count": 1,
   "metadata": {},
   "outputs": [
    {
     "name": "stdout",
     "output_type": "stream",
     "text": [
      "Requirement already satisfied: pip in c:\\anaconda3\\envs\\django-back\\lib\\site-packages (23.3.1)\n",
      "Collecting pip\n",
      "  Downloading pip-24.0-py3-none-any.whl.metadata (3.6 kB)\n",
      "Downloading pip-24.0-py3-none-any.whl (2.1 MB)\n",
      "   ---------------------------------------- 0.0/2.1 MB ? eta -:--:--\n",
      "   ---------------------------------------- 0.0/2.1 MB ? eta -:--:--\n",
      "   --- ------------------------------------ 0.2/2.1 MB 2.9 MB/s eta 0:00:01\n",
      "   ----------- ---------------------------- 0.6/2.1 MB 5.3 MB/s eta 0:00:01\n",
      "   -------------------- ------------------- 1.1/2.1 MB 6.9 MB/s eta 0:00:01\n",
      "   ----------------------------- ---------- 1.6/2.1 MB 8.3 MB/s eta 0:00:01\n",
      "   ---------------------------------------  2.1/2.1 MB 8.9 MB/s eta 0:00:01\n",
      "   ---------------------------------------- 2.1/2.1 MB 7.9 MB/s eta 0:00:00\n"
     ]
    },
    {
     "name": "stderr",
     "output_type": "stream",
     "text": [
      "ERROR: To modify pip, please run the following command:\n",
      "C:\\Anaconda3\\envs\\django-back\\python.exe -m pip install --upgrade pip\n"
     ]
    },
    {
     "name": "stdout",
     "output_type": "stream",
     "text": [
      "Collecting kiwipiepy\n",
      "  Downloading kiwipiepy-0.17.0-cp312-cp312-win_amd64.whl.metadata (1.1 kB)\n",
      "Collecting kiwipiepy-model<0.18,>=0.17 (from kiwipiepy)\n",
      "  Downloading kiwipiepy_model-0.17.0.tar.gz (34.7 MB)\n",
      "     ---------------------------------------- 0.0/34.7 MB ? eta -:--:--\n",
      "     ---------------------------------------- 0.0/34.7 MB ? eta -:--:--\n",
      "     ---------------------------------------- 0.1/34.7 MB 1.7 MB/s eta 0:00:21\n",
      "      --------------------------------------- 0.6/34.7 MB 4.4 MB/s eta 0:00:08\n",
      "     - -------------------------------------- 1.0/34.7 MB 5.8 MB/s eta 0:00:06\n",
      "     - -------------------------------------- 1.5/34.7 MB 6.9 MB/s eta 0:00:05\n",
      "     -- ------------------------------------- 2.1/34.7 MB 8.0 MB/s eta 0:00:05\n",
      "     --- ------------------------------------ 2.7/34.7 MB 8.6 MB/s eta 0:00:04\n",
      "     --- ------------------------------------ 3.3/34.7 MB 9.3 MB/s eta 0:00:04\n",
      "     ---- ----------------------------------- 4.1/34.7 MB 10.0 MB/s eta 0:00:04\n",
      "     ----- ---------------------------------- 4.8/34.7 MB 11.0 MB/s eta 0:00:03\n",
      "     ------ --------------------------------- 5.6/34.7 MB 11.4 MB/s eta 0:00:03\n",
      "     ------- -------------------------------- 6.3/34.7 MB 11.8 MB/s eta 0:00:03\n",
      "     -------- ------------------------------- 7.0/34.7 MB 12.2 MB/s eta 0:00:03\n",
      "     -------- ------------------------------- 7.7/34.7 MB 12.4 MB/s eta 0:00:03\n",
      "     --------- ------------------------------ 7.8/34.7 MB 12.5 MB/s eta 0:00:03\n",
      "     --------- ------------------------------ 7.8/34.7 MB 12.5 MB/s eta 0:00:03\n",
      "     --------- ------------------------------ 7.8/34.7 MB 12.5 MB/s eta 0:00:03\n",
      "     --------- ------------------------------ 7.8/34.7 MB 12.5 MB/s eta 0:00:03\n",
      "     --------- ------------------------------ 7.8/34.7 MB 12.5 MB/s eta 0:00:03\n",
      "     --------- ------------------------------ 8.0/34.7 MB 8.8 MB/s eta 0:00:04\n",
      "     ---------- ----------------------------- 8.8/34.7 MB 9.2 MB/s eta 0:00:03\n",
      "     ---------- ----------------------------- 9.5/34.7 MB 9.6 MB/s eta 0:00:03\n",
      "     ----------- ---------------------------- 10.1/34.7 MB 9.8 MB/s eta 0:00:03\n",
      "     ----------- --------------------------- 10.6/34.7 MB 10.6 MB/s eta 0:00:03\n",
      "     ------------ -------------------------- 10.9/34.7 MB 10.4 MB/s eta 0:00:03\n",
      "     ------------ -------------------------- 11.2/34.7 MB 10.1 MB/s eta 0:00:03\n",
      "     ------------- -------------------------- 11.4/34.7 MB 9.9 MB/s eta 0:00:03\n",
      "     ------------- -------------------------- 11.6/34.7 MB 9.6 MB/s eta 0:00:03\n",
      "     ------------- -------------------------- 11.9/34.7 MB 9.4 MB/s eta 0:00:03\n",
      "     ------------- -------------------------- 12.1/34.7 MB 9.4 MB/s eta 0:00:03\n",
      "     -------------- ------------------------- 12.3/34.7 MB 9.0 MB/s eta 0:00:03\n",
      "     -------------- ------------------------- 12.5/34.7 MB 8.8 MB/s eta 0:00:03\n",
      "     -------------- ------------------------- 12.8/34.7 MB 8.6 MB/s eta 0:00:03\n",
      "     --------------- ------------------------ 13.0/34.7 MB 8.4 MB/s eta 0:00:03\n",
      "     --------------- ------------------------ 13.2/34.7 MB 8.2 MB/s eta 0:00:03\n",
      "     --------------- ------------------------ 13.5/34.7 MB 8.0 MB/s eta 0:00:03\n",
      "     --------------- ------------------------ 13.7/34.7 MB 7.8 MB/s eta 0:00:03\n",
      "     ---------------- ----------------------- 13.9/34.7 MB 7.6 MB/s eta 0:00:03\n",
      "     ---------------- ----------------------- 14.2/34.7 MB 7.4 MB/s eta 0:00:03\n",
      "     ---------------- ----------------------- 14.4/34.7 MB 7.3 MB/s eta 0:00:03\n",
      "     ---------------- ----------------------- 14.6/34.7 MB 7.2 MB/s eta 0:00:03\n",
      "     ----------------- ---------------------- 14.9/34.7 MB 7.0 MB/s eta 0:00:03\n",
      "     ----------------- ---------------------- 15.1/34.7 MB 6.8 MB/s eta 0:00:03\n",
      "     ----------------- ---------------------- 15.3/34.7 MB 6.7 MB/s eta 0:00:03\n",
      "     ----------------- ---------------------- 15.5/34.7 MB 6.5 MB/s eta 0:00:03\n",
      "     ------------------ --------------------- 15.8/34.7 MB 6.4 MB/s eta 0:00:03\n",
      "     ------------------ --------------------- 16.0/34.7 MB 6.3 MB/s eta 0:00:03\n",
      "     ------------------ --------------------- 16.3/34.7 MB 6.2 MB/s eta 0:00:03\n",
      "     ------------------- -------------------- 16.5/34.7 MB 6.1 MB/s eta 0:00:04\n",
      "     ------------------- -------------------- 16.7/34.7 MB 6.0 MB/s eta 0:00:04\n",
      "     ------------------- -------------------- 17.0/34.7 MB 5.8 MB/s eta 0:00:04\n",
      "     ------------------- -------------------- 17.2/34.7 MB 5.7 MB/s eta 0:00:04\n",
      "     -------------------- ------------------- 17.4/34.7 MB 5.6 MB/s eta 0:00:04\n",
      "     -------------------- ------------------- 17.6/34.7 MB 5.6 MB/s eta 0:00:04\n",
      "     -------------------- ------------------- 17.9/34.7 MB 5.5 MB/s eta 0:00:04\n",
      "     -------------------- ------------------- 18.1/34.7 MB 6.2 MB/s eta 0:00:03\n",
      "     --------------------- ------------------ 18.3/34.7 MB 6.1 MB/s eta 0:00:03\n",
      "     --------------------- ------------------ 18.5/34.7 MB 6.0 MB/s eta 0:00:03\n",
      "     --------------------- ------------------ 18.8/34.7 MB 5.9 MB/s eta 0:00:03\n",
      "     --------------------- ------------------ 19.0/34.7 MB 5.8 MB/s eta 0:00:03\n",
      "     ---------------------- ----------------- 19.3/34.7 MB 5.7 MB/s eta 0:00:03\n",
      "     ---------------------- ----------------- 19.5/34.7 MB 5.6 MB/s eta 0:00:03\n",
      "     ---------------------- ----------------- 19.8/34.7 MB 5.5 MB/s eta 0:00:03\n",
      "     ---------------------- ----------------- 20.0/34.7 MB 5.5 MB/s eta 0:00:03\n",
      "     ----------------------- ---------------- 20.2/34.7 MB 5.3 MB/s eta 0:00:03\n",
      "     ----------------------- ---------------- 20.4/34.7 MB 5.3 MB/s eta 0:00:03\n",
      "     ----------------------- ---------------- 20.6/34.7 MB 5.2 MB/s eta 0:00:03\n",
      "     ------------------------ --------------- 20.9/34.7 MB 5.1 MB/s eta 0:00:03\n",
      "     ------------------------ --------------- 21.1/34.7 MB 5.1 MB/s eta 0:00:03\n",
      "     ------------------------ --------------- 21.4/34.7 MB 5.1 MB/s eta 0:00:03\n",
      "     ------------------------ --------------- 21.6/34.7 MB 5.1 MB/s eta 0:00:03\n",
      "     ------------------------- -------------- 21.9/34.7 MB 5.1 MB/s eta 0:00:03\n",
      "     ------------------------- -------------- 22.1/34.7 MB 5.1 MB/s eta 0:00:03\n",
      "     ------------------------- -------------- 22.3/34.7 MB 5.1 MB/s eta 0:00:03\n",
      "     ------------------------- -------------- 22.5/34.7 MB 5.1 MB/s eta 0:00:03\n",
      "     -------------------------- ------------- 22.8/34.7 MB 5.1 MB/s eta 0:00:03\n",
      "     -------------------------- ------------- 23.0/34.7 MB 5.1 MB/s eta 0:00:03\n",
      "     -------------------------- ------------- 23.2/34.7 MB 5.1 MB/s eta 0:00:03\n",
      "     -------------------------- ------------- 23.4/34.7 MB 5.1 MB/s eta 0:00:03\n",
      "     --------------------------- ------------ 23.7/34.7 MB 5.1 MB/s eta 0:00:03\n",
      "     --------------------------- ------------ 23.9/34.7 MB 5.1 MB/s eta 0:00:03\n",
      "     --------------------------- ------------ 24.1/34.7 MB 5.1 MB/s eta 0:00:03\n",
      "     ---------------------------- ----------- 24.3/34.7 MB 5.1 MB/s eta 0:00:03\n",
      "     ---------------------------- ----------- 24.6/34.7 MB 5.2 MB/s eta 0:00:02\n",
      "     ---------------------------- ----------- 24.9/34.7 MB 5.1 MB/s eta 0:00:02\n",
      "     ---------------------------- ----------- 25.1/34.7 MB 5.1 MB/s eta 0:00:02\n",
      "     ---------------------------- ----------- 25.2/34.7 MB 5.1 MB/s eta 0:00:02\n",
      "     ---------------------------- ----------- 25.2/34.7 MB 5.1 MB/s eta 0:00:02\n",
      "     ---------------------------- ----------- 25.2/34.7 MB 5.1 MB/s eta 0:00:02\n",
      "     ----------------------------- ---------- 25.6/34.7 MB 4.9 MB/s eta 0:00:02\n",
      "     ------------------------------ --------- 26.2/34.7 MB 5.1 MB/s eta 0:00:02\n",
      "     ------------------------------ --------- 26.5/34.7 MB 5.1 MB/s eta 0:00:02\n",
      "     ------------------------------ --------- 26.7/34.7 MB 5.1 MB/s eta 0:00:02\n",
      "     ------------------------------ --------- 26.9/34.7 MB 5.1 MB/s eta 0:00:02\n",
      "     ------------------------------- -------- 27.1/34.7 MB 5.1 MB/s eta 0:00:02\n",
      "     ------------------------------- -------- 27.4/34.7 MB 5.1 MB/s eta 0:00:02\n",
      "     ------------------------------- -------- 27.7/34.7 MB 5.1 MB/s eta 0:00:02\n",
      "     -------------------------------- ------- 27.9/34.7 MB 5.2 MB/s eta 0:00:02\n",
      "     -------------------------------- ------- 28.1/34.7 MB 5.1 MB/s eta 0:00:02\n",
      "     -------------------------------- ------- 28.3/34.7 MB 5.1 MB/s eta 0:00:02\n",
      "     -------------------------------- ------- 28.6/34.7 MB 5.1 MB/s eta 0:00:02\n",
      "     --------------------------------- ------ 28.8/34.7 MB 5.1 MB/s eta 0:00:02\n",
      "     --------------------------------- ------ 29.0/34.7 MB 5.1 MB/s eta 0:00:02\n",
      "     --------------------------------- ------ 29.2/34.7 MB 5.1 MB/s eta 0:00:02\n",
      "     --------------------------------- ------ 29.5/34.7 MB 5.1 MB/s eta 0:00:02\n",
      "     ---------------------------------- ----- 29.7/34.7 MB 5.1 MB/s eta 0:00:01\n",
      "     ---------------------------------- ----- 29.9/34.7 MB 5.1 MB/s eta 0:00:01\n",
      "     ---------------------------------- ----- 30.2/34.7 MB 5.1 MB/s eta 0:00:01\n",
      "     ----------------------------------- ---- 30.4/34.7 MB 5.2 MB/s eta 0:00:01\n",
      "     ----------------------------------- ---- 30.7/34.7 MB 5.1 MB/s eta 0:00:01\n",
      "     ----------------------------------- ---- 30.9/34.7 MB 5.2 MB/s eta 0:00:01\n",
      "     ----------------------------------- ---- 31.1/34.7 MB 5.1 MB/s eta 0:00:01\n",
      "     ----------------------------------- ---- 31.3/34.7 MB 5.1 MB/s eta 0:00:01\n",
      "     ------------------------------------ --- 31.4/34.7 MB 5.1 MB/s eta 0:00:01\n",
      "     ------------------------------------ --- 31.8/34.7 MB 5.1 MB/s eta 0:00:01\n",
      "     ------------------------------------ --- 32.0/34.7 MB 5.1 MB/s eta 0:00:01\n",
      "     ------------------------------------- -- 32.2/34.7 MB 5.1 MB/s eta 0:00:01\n",
      "     ------------------------------------- -- 32.5/34.7 MB 5.1 MB/s eta 0:00:01\n",
      "     ------------------------------------- -- 32.5/34.7 MB 5.1 MB/s eta 0:00:01\n",
      "     ------------------------------------- -- 32.9/34.7 MB 5.1 MB/s eta 0:00:01\n",
      "     -------------------------------------- - 33.2/34.7 MB 5.1 MB/s eta 0:00:01\n",
      "     -------------------------------------- - 33.4/34.7 MB 5.1 MB/s eta 0:00:01\n",
      "     -------------------------------------- - 33.7/34.7 MB 5.2 MB/s eta 0:00:01\n",
      "     ---------------------------------------  33.9/34.7 MB 5.1 MB/s eta 0:00:01\n",
      "     ---------------------------------------  34.1/34.7 MB 5.1 MB/s eta 0:00:01\n",
      "     ---------------------------------------  34.3/34.7 MB 5.1 MB/s eta 0:00:01\n",
      "     ---------------------------------------  34.5/34.7 MB 5.1 MB/s eta 0:00:01\n",
      "     ---------------------------------------  34.7/34.7 MB 5.1 MB/s eta 0:00:01\n",
      "     ---------------------------------------- 34.7/34.7 MB 5.0 MB/s eta 0:00:00\n",
      "  Preparing metadata (setup.py): started\n",
      "  Preparing metadata (setup.py): finished with status 'done'\n",
      "Requirement already satisfied: numpy in c:\\anaconda3\\envs\\django-back\\lib\\site-packages (from kiwipiepy) (1.26.4)\n",
      "Requirement already satisfied: tqdm in c:\\anaconda3\\envs\\django-back\\lib\\site-packages (from kiwipiepy) (4.66.2)\n",
      "Requirement already satisfied: colorama in c:\\anaconda3\\envs\\django-back\\lib\\site-packages (from tqdm->kiwipiepy) (0.4.6)\n",
      "Downloading kiwipiepy-0.17.0-cp312-cp312-win_amd64.whl (1.1 MB)\n",
      "   ---------------------------------------- 0.0/1.1 MB ? eta -:--:--\n",
      "   --------------- ------------------------ 0.4/1.1 MB 8.9 MB/s eta 0:00:01\n",
      "   ---------------------------------------  1.1/1.1 MB 11.5 MB/s eta 0:00:01\n",
      "   ---------------------------------------- 1.1/1.1 MB 9.9 MB/s eta 0:00:00\n",
      "Building wheels for collected packages: kiwipiepy-model\n",
      "  Building wheel for kiwipiepy-model (setup.py): started\n",
      "  Building wheel for kiwipiepy-model (setup.py): finished with status 'done'\n",
      "  Created wheel for kiwipiepy-model: filename=kiwipiepy_model-0.17.0-py3-none-any.whl size=34845044 sha256=a903e5009b4ea155539a24fe7ad98ca038f99f22a64a9c580a14df929fd387e8\n",
      "  Stored in directory: c:\\users\\정수채\\appdata\\local\\pip\\cache\\wheels\\a5\\22\\c2\\4631b4615349f01383e6721133899029ad0ae9736463728b4f\n",
      "Successfully built kiwipiepy-model\n",
      "Installing collected packages: kiwipiepy-model, kiwipiepy\n",
      "Successfully installed kiwipiepy-0.17.0 kiwipiepy-model-0.17.0\n"
     ]
    }
   ],
   "source": [
    "# !pip install kiwipiepy"
   ]
  },
  {
   "cell_type": "markdown",
   "metadata": {},
   "source": [
    "# 사용 설명서 \n",
    "- https://github.com/bab2min/kiwipiepy\n",
    "1. normalize_coda: True/False; 덧붙은 받침 제거 e.g. 안녕하세욬ㅋㅋㅋ => 안녕하세요 ㅋㅋㅋㅋ\n",
    "2. stopwords: Stopwords(); 불용어 제외 출력\n",
    "3. kiwi.split_into_sents(): 문장 분리 기능\n",
    "    + return_tokens: True/False; 문장 분리 + 형태소 분석 수행\n",
    "4. Skipbigram 모델: 먼 거리에 있는 형태소 고려\n",
    "    + typos: 간단한 오타 교정(로딩 시간이 5~10초 가량 소요됨)"
   ]
  },
  {
   "cell_type": "code",
   "execution_count": 2,
   "metadata": {},
   "outputs": [],
   "source": [
    "from kiwipiepy import Kiwi\n",
    "from kiwipiepy.utils import Stopwords"
   ]
  },
  {
   "cell_type": "code",
   "execution_count": 4,
   "metadata": {},
   "outputs": [
    {
     "data": {
      "text/plain": [
       "[Token(form='안녕', tag='IC', start=0, len=2),\n",
       " Token(form='방가워', tag='NNG', start=4, len=3),\n",
       " Token(form='오', tag='NNP', start=8, len=1),\n",
       " Token(form='너', tag='NP', start=10, len=1),\n",
       " Token(form='좀', tag='MAG', start=11, len=1),\n",
       " Token(form='치', tag='VV', start=13, len=1)]"
      ]
     },
     "execution_count": 4,
     "metadata": {},
     "output_type": "execute_result"
    }
   ],
   "source": [
    "stopwords = Stopwords()\n",
    "\n",
    "kiwi = Kiwi()\n",
    "kiwi.tokenize(\"\")\n",
    "kiwi.tokenize(\"안녕! 방가워 오 너좀 친다??\", normalize_coda=True, stopwords=stopwords)"
   ]
  },
  {
   "cell_type": "code",
   "execution_count": 5,
   "metadata": {},
   "outputs": [
    {
     "data": {
      "text/plain": [
       "'IC'"
      ]
     },
     "execution_count": 5,
     "metadata": {},
     "output_type": "execute_result"
    }
   ],
   "source": [
    "tokens = kiwi.tokenize(\"안녕! 방가워 오 너좀 친다??\", normalize_coda=True, stopwords=stopwords)\n",
    "\n",
    "tokens[0].tag"
   ]
  },
  {
   "cell_type": "code",
   "execution_count": 13,
   "metadata": {},
   "outputs": [
    {
     "data": {
      "text/plain": [
       "[Sentence(text='여러 문장으로 구성된 텍스트네', start=0, end=16, tokens=[Token(form='여러', tag='MM', start=0, len=2), Token(form='문장', tag='NNG', start=3, len=2), Token(form='으로', tag='JKB', start=5, len=2), Token(form='구성', tag='NNG', start=8, len=2), Token(form='되', tag='XSV', start=10, len=1), Token(form='ᆫ', tag='ETM', start=10, len=1), Token(form='텍스트', tag='NNG', start=12, len=3), Token(form='이', tag='VCP', start=15, len=0), Token(form='네', tag='EF', start=15, len=1)], subs=[]),\n",
       " Sentence(text='이걸 분리할 수 있을 것 같아?', start=17, end=34, tokens=[Token(form='이거', tag='NP', start=17, len=2), Token(form='ᆯ', tag='JKO', start=18, len=1), Token(form='분리', tag='NNG', start=20, len=2), Token(form='하', tag='XSV', start=22, len=1), Token(form='ᆯ', tag='ETM', start=22, len=1), Token(form='수', tag='NNB', start=24, len=1), Token(form='있', tag='VA', start=26, len=1), Token(form='을', tag='ETM', start=27, len=1), Token(form='것', tag='NNB', start=29, len=1), Token(form='같', tag='VA', start=31, len=1), Token(form='어', tag='EF', start=32, len=1), Token(form='?', tag='SF', start=33, len=1)], subs=[])]"
      ]
     },
     "execution_count": 13,
     "metadata": {},
     "output_type": "execute_result"
    }
   ],
   "source": [
    "kiwi.split_into_sents(\"여러 문장으로 구성된 텍스트네 이걸 분리할 수 있을 것 같아?\", return_tokens=True)"
   ]
  },
  {
   "cell_type": "code",
   "execution_count": 17,
   "metadata": {},
   "outputs": [
    {
     "data": {
      "text/plain": [
       "[Token(form='이', tag='MM', start=0, len=1),\n",
       " Token(form='번호', tag='NNG', start=2, len=2),\n",
       " Token(form='로', tag='JKB', start=4, len=1),\n",
       " Token(form='전화', tag='NNG', start=6, len=2),\n",
       " Token(form='를', tag='JKO', start=8, len=1),\n",
       " Token(form='이따가', tag='MAG', start=10, len=3),\n",
       " Token(form='꼭', tag='MAG', start=14, len=1),\n",
       " Token(form='반드시', tag='MAG', start=16, len=3),\n",
       " Token(form='걸', tag='VV', start=20, len=1),\n",
       " Token(form='어', tag='EF', start=21, len=1),\n",
       " Token(form='.', tag='SF', start=22, len=1)]"
      ]
     },
     "execution_count": 17,
     "metadata": {},
     "output_type": "execute_result"
    }
   ],
   "source": [
    "kiwi = Kiwi(model_type='sbg')\n",
    "kiwi.tokenize('이 번호로 전화를 이따가 꼭 반드시 걸어.')"
   ]
  },
  {
   "cell_type": "code",
   "execution_count": 16,
   "metadata": {},
   "outputs": [
    {
     "data": {
      "text/plain": [
       "[Token(form='이', tag='MM', start=0, len=1),\n",
       " Token(form='번호', tag='NNG', start=2, len=2),\n",
       " Token(form='로', tag='JKB', start=4, len=1),\n",
       " Token(form='전화', tag='NNG', start=6, len=2),\n",
       " Token(form='를', tag='JKO', start=8, len=1),\n",
       " Token(form='이따가', tag='MAG', start=10, len=3),\n",
       " Token(form='꼭', tag='MAG', start=14, len=1),\n",
       " Token(form='반드시', tag='MAG', start=16, len=3),\n",
       " Token(form='걷', tag='VV-I', start=20, len=1),\n",
       " Token(form='어', tag='EF', start=21, len=1),\n",
       " Token(form='.', tag='SF', start=22, len=1)]"
      ]
     },
     "execution_count": 16,
     "metadata": {},
     "output_type": "execute_result"
    }
   ],
   "source": [
    "kiwi = Kiwi(model_type='knlm')\n",
    "kiwi.tokenize('이 번호로 전화를 이따가 꼭 반드시 걸어.')"
   ]
  },
  {
   "cell_type": "code",
   "execution_count": 20,
   "metadata": {},
   "outputs": [
    {
     "data": {
      "text/plain": [
       "[Token(form='아따', tag='IC', start=0, len=2),\n",
       " Token(form='이것', tag='NP', start=2, len=2),\n",
       " Token(form='이', tag='JKS', start=3, len=1),\n",
       " Token(form='이러', tag='VV', start=5, len=2),\n",
       " Token(form='어', tag='EC', start=6, len=1),\n",
       " Token(form='ㅁ', tag='SW', start=7, len=1),\n",
       " Token(form='것', tag='NNB', start=8, len=1),\n",
       " Token(form='이', tag='JKS', start=8, len=1),\n",
       " Token(form='시간', tag='NNG', start=9, len=2),\n",
       " Token(form='이', tag='JKS', start=11, len=1),\n",
       " Token(form='오래', tag='MAG', start=13, len=2),\n",
       " Token(form='걸리', tag='VV', start=15, len=2),\n",
       " Token(form='어', tag='EC', start=16, len=1),\n",
       " Token(form='버리', tag='VX', start=17, len=2),\n",
       " Token(form='면', tag='EC', start=19, len=1),\n",
       " Token(form='우야뉴우야누', tag='NNG', start=21, len=6)]"
      ]
     },
     "execution_count": 20,
     "metadata": {},
     "output_type": "execute_result"
    }
   ],
   "source": [
    "kiwi = Kiwi(model_type='sbg', typos='basic') # 대략 10초정도 걸리는듯\n",
    "kiwi.tokenize('아따이게 이러ㅁ게시간이 오래걸려버리면 우야뉴우야누')"
   ]
  },
  {
   "cell_type": "code",
   "execution_count": 8,
   "metadata": {},
   "outputs": [
    {
     "data": {
      "text/plain": [
       "[Token(form='안녕', tag='IC', start=0, len=2),\n",
       " Token(form='방가워', tag='NNG', start=4, len=3),\n",
       " Token(form='오', tag='NNP', start=8, len=1),\n",
       " Token(form='너', tag='NP', start=10, len=1),\n",
       " Token(form='좀', tag='MAG', start=11, len=1),\n",
       " Token(form='치', tag='VV', start=13, len=1)]"
      ]
     },
     "execution_count": 8,
     "metadata": {},
     "output_type": "execute_result"
    }
   ],
   "source": [
    "tokens"
   ]
  }
 ],
 "metadata": {
  "kernelspec": {
   "display_name": "django-back",
   "language": "python",
   "name": "python3"
  },
  "language_info": {
   "codemirror_mode": {
    "name": "ipython",
    "version": 3
   },
   "file_extension": ".py",
   "mimetype": "text/x-python",
   "name": "python",
   "nbconvert_exporter": "python",
   "pygments_lexer": "ipython3",
   "version": "3.12.2"
  }
 },
 "nbformat": 4,
 "nbformat_minor": 2
}
